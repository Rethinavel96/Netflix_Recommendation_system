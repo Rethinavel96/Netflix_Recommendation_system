{
 "cells": [
  {
   "cell_type": "code",
   "execution_count": 22,
   "id": "e7f1a760",
   "metadata": {},
   "outputs": [],
   "source": [
    "#importing required libraries\n",
    "import pandas as pd\n",
    "from sklearn.feature_extraction.text import TfidfVectorizer\n",
    "from sklearn.metrics.pairwise import cosine_similarity\n",
    "import difflib"
   ]
  },
  {
   "cell_type": "code",
   "execution_count": 3,
   "id": "ae19bf69",
   "metadata": {},
   "outputs": [],
   "source": [
    "#loading dataset\n",
    "df=pd.read_csv('Netflix_titles.csv')"
   ]
  },
  {
   "cell_type": "code",
   "execution_count": 4,
   "id": "4094954f",
   "metadata": {},
   "outputs": [
    {
     "data": {
      "text/html": [
       "<div>\n",
       "<style scoped>\n",
       "    .dataframe tbody tr th:only-of-type {\n",
       "        vertical-align: middle;\n",
       "    }\n",
       "\n",
       "    .dataframe tbody tr th {\n",
       "        vertical-align: top;\n",
       "    }\n",
       "\n",
       "    .dataframe thead th {\n",
       "        text-align: right;\n",
       "    }\n",
       "</style>\n",
       "<table border=\"1\" class=\"dataframe\">\n",
       "  <thead>\n",
       "    <tr style=\"text-align: right;\">\n",
       "      <th></th>\n",
       "      <th>show_id</th>\n",
       "      <th>type</th>\n",
       "      <th>title</th>\n",
       "      <th>director</th>\n",
       "      <th>cast</th>\n",
       "      <th>country</th>\n",
       "      <th>date_added</th>\n",
       "      <th>release_year</th>\n",
       "      <th>rating</th>\n",
       "      <th>duration</th>\n",
       "      <th>listed_in</th>\n",
       "      <th>description</th>\n",
       "    </tr>\n",
       "  </thead>\n",
       "  <tbody>\n",
       "    <tr>\n",
       "      <th>0</th>\n",
       "      <td>s1</td>\n",
       "      <td>Movie</td>\n",
       "      <td>Dick Johnson Is Dead</td>\n",
       "      <td>Kirsten Johnson</td>\n",
       "      <td>NaN</td>\n",
       "      <td>United States</td>\n",
       "      <td>25-Sep-21</td>\n",
       "      <td>2020</td>\n",
       "      <td>PG-13</td>\n",
       "      <td>90 min</td>\n",
       "      <td>Documentaries</td>\n",
       "      <td>As her father nears the end of his life, filmm...</td>\n",
       "    </tr>\n",
       "    <tr>\n",
       "      <th>1</th>\n",
       "      <td>s2</td>\n",
       "      <td>TV Show</td>\n",
       "      <td>Blood &amp; Water</td>\n",
       "      <td>NaN</td>\n",
       "      <td>Ama Qamata, Khosi Ngema, Gail Mabalane, Thaban...</td>\n",
       "      <td>South Africa</td>\n",
       "      <td>24-Sep-21</td>\n",
       "      <td>2021</td>\n",
       "      <td>TV-MA</td>\n",
       "      <td>2 Seasons</td>\n",
       "      <td>International TV Shows, TV Dramas, TV Mysteries</td>\n",
       "      <td>After crossing paths at a party, a Cape Town t...</td>\n",
       "    </tr>\n",
       "    <tr>\n",
       "      <th>2</th>\n",
       "      <td>s3</td>\n",
       "      <td>TV Show</td>\n",
       "      <td>Ganglands</td>\n",
       "      <td>Julien Leclercq</td>\n",
       "      <td>Sami Bouajila, Tracy Gotoas, Samuel Jouy, Nabi...</td>\n",
       "      <td>NaN</td>\n",
       "      <td>24-Sep-21</td>\n",
       "      <td>2021</td>\n",
       "      <td>TV-MA</td>\n",
       "      <td>1 Season</td>\n",
       "      <td>Crime TV Shows, International TV Shows, TV Act...</td>\n",
       "      <td>To protect his family from a powerful drug lor...</td>\n",
       "    </tr>\n",
       "    <tr>\n",
       "      <th>3</th>\n",
       "      <td>s4</td>\n",
       "      <td>TV Show</td>\n",
       "      <td>Jailbirds New Orleans</td>\n",
       "      <td>NaN</td>\n",
       "      <td>NaN</td>\n",
       "      <td>NaN</td>\n",
       "      <td>24-Sep-21</td>\n",
       "      <td>2021</td>\n",
       "      <td>TV-MA</td>\n",
       "      <td>1 Season</td>\n",
       "      <td>Docuseries, Reality TV</td>\n",
       "      <td>Feuds, flirtations and toilet talk go down amo...</td>\n",
       "    </tr>\n",
       "    <tr>\n",
       "      <th>4</th>\n",
       "      <td>s5</td>\n",
       "      <td>TV Show</td>\n",
       "      <td>Kota Factory</td>\n",
       "      <td>NaN</td>\n",
       "      <td>Mayur More, Jitendra Kumar, Ranjan Raj, Alam K...</td>\n",
       "      <td>India</td>\n",
       "      <td>24-Sep-21</td>\n",
       "      <td>2021</td>\n",
       "      <td>TV-MA</td>\n",
       "      <td>2 Seasons</td>\n",
       "      <td>International TV Shows, Romantic TV Shows, TV ...</td>\n",
       "      <td>In a city of coaching centers known to train I...</td>\n",
       "    </tr>\n",
       "  </tbody>\n",
       "</table>\n",
       "</div>"
      ],
      "text/plain": [
       "  show_id     type                  title         director  \\\n",
       "0      s1    Movie   Dick Johnson Is Dead  Kirsten Johnson   \n",
       "1      s2  TV Show          Blood & Water              NaN   \n",
       "2      s3  TV Show              Ganglands  Julien Leclercq   \n",
       "3      s4  TV Show  Jailbirds New Orleans              NaN   \n",
       "4      s5  TV Show           Kota Factory              NaN   \n",
       "\n",
       "                                                cast        country  \\\n",
       "0                                                NaN  United States   \n",
       "1  Ama Qamata, Khosi Ngema, Gail Mabalane, Thaban...   South Africa   \n",
       "2  Sami Bouajila, Tracy Gotoas, Samuel Jouy, Nabi...            NaN   \n",
       "3                                                NaN            NaN   \n",
       "4  Mayur More, Jitendra Kumar, Ranjan Raj, Alam K...          India   \n",
       "\n",
       "  date_added  release_year rating   duration  \\\n",
       "0  25-Sep-21          2020  PG-13     90 min   \n",
       "1  24-Sep-21          2021  TV-MA  2 Seasons   \n",
       "2  24-Sep-21          2021  TV-MA   1 Season   \n",
       "3  24-Sep-21          2021  TV-MA   1 Season   \n",
       "4  24-Sep-21          2021  TV-MA  2 Seasons   \n",
       "\n",
       "                                           listed_in  \\\n",
       "0                                      Documentaries   \n",
       "1    International TV Shows, TV Dramas, TV Mysteries   \n",
       "2  Crime TV Shows, International TV Shows, TV Act...   \n",
       "3                             Docuseries, Reality TV   \n",
       "4  International TV Shows, Romantic TV Shows, TV ...   \n",
       "\n",
       "                                         description  \n",
       "0  As her father nears the end of his life, filmm...  \n",
       "1  After crossing paths at a party, a Cape Town t...  \n",
       "2  To protect his family from a powerful drug lor...  \n",
       "3  Feuds, flirtations and toilet talk go down amo...  \n",
       "4  In a city of coaching centers known to train I...  "
      ]
     },
     "execution_count": 4,
     "metadata": {},
     "output_type": "execute_result"
    }
   ],
   "source": [
    "df.head()"
   ]
  },
  {
   "cell_type": "markdown",
   "id": "6c31b729",
   "metadata": {},
   "source": [
    "## Data cleaning and Modelling"
   ]
  },
  {
   "cell_type": "code",
   "execution_count": 5,
   "id": "02eb96d7",
   "metadata": {},
   "outputs": [
    {
     "data": {
      "text/plain": [
       "show_id            0\n",
       "type               0\n",
       "title              0\n",
       "director        2634\n",
       "cast             825\n",
       "country          831\n",
       "date_added        10\n",
       "release_year       0\n",
       "rating             4\n",
       "duration           3\n",
       "listed_in          0\n",
       "description        0\n",
       "dtype: int64"
      ]
     },
     "execution_count": 5,
     "metadata": {},
     "output_type": "execute_result"
    }
   ],
   "source": [
    "df.isnull().sum()"
   ]
  },
  {
   "cell_type": "code",
   "execution_count": 9,
   "id": "3b25c3f7",
   "metadata": {},
   "outputs": [],
   "source": [
    "df['director'].fillna(value='Unknown director',inplace=True)"
   ]
  },
  {
   "cell_type": "code",
   "execution_count": 10,
   "id": "53da2958",
   "metadata": {},
   "outputs": [],
   "source": [
    "df['cast'].fillna(value='Unknown cast',inplace=True)"
   ]
  },
  {
   "cell_type": "code",
   "execution_count": 12,
   "id": "0b79c962",
   "metadata": {},
   "outputs": [],
   "source": [
    "# Now required columns are directors and cast and title only\n",
    "# Making new column which is combination of director and cast\n",
    "\n",
    "df['combine']=df['title'] + ' ' + df['director'] + ' '+ df['cast']"
   ]
  },
  {
   "cell_type": "code",
   "execution_count": 15,
   "id": "8247e134",
   "metadata": {},
   "outputs": [],
   "source": [
    "# Have to convert into numerical value\n",
    "t=TfidfVectorizer()\n",
    "t1=t.fit_transform(df['combine'])"
   ]
  },
  {
   "cell_type": "code",
   "execution_count": 16,
   "id": "64722a78",
   "metadata": {},
   "outputs": [
    {
     "name": "stdout",
     "output_type": "stream",
     "text": [
      "  (0, 6524)\t0.18691797765923202\n",
      "  (0, 38105)\t0.11328296157403002\n",
      "  (0, 19434)\t0.40961014398957324\n",
      "  (0, 8925)\t0.38350726748216557\n",
      "  (0, 16825)\t0.3354673803728432\n",
      "  (0, 17812)\t0.5920114988226451\n",
      "  (0, 9549)\t0.4175576223008638\n",
      "  (1, 24512)\t0.1608008383326661\n",
      "  (1, 27976)\t0.08590929285803266\n",
      "  (1, 24191)\t0.09569903491873553\n",
      "  (1, 33200)\t0.16805743889144198\n",
      "  (1, 39733)\t0.09164275294260502\n",
      "  (1, 10196)\t0.14563676624808325\n",
      "  (1, 32582)\t0.13754759794253998\n",
      "  (1, 32005)\t0.15565219829938737\n",
      "  (1, 23155)\t0.16805743889144198\n",
      "  (1, 23717)\t0.16805743889144198\n",
      "  (1, 14446)\t0.16805743889144198\n",
      "  (1, 26777)\t0.16805743889144198\n",
      "  (1, 25847)\t0.1608008383326661\n",
      "  (1, 18126)\t0.12147715603100517\n",
      "  (1, 21952)\t0.16805743889144198\n",
      "  (1, 32837)\t0.1608008383326661\n",
      "  (1, 12126)\t0.1608008383326661\n",
      "  (1, 14110)\t0.16805743889144198\n",
      "  :\t:\n",
      "  (8805, 31443)\t0.15859058009181645\n",
      "  (8805, 37010)\t0.16841484499124215\n",
      "  (8805, 19084)\t0.14391108897571278\n",
      "  (8805, 24021)\t0.11263740061581694\n",
      "  (8805, 18694)\t0.15936867740828117\n",
      "  (8806, 37579)\t0.2668584470627525\n",
      "  (8806, 33084)\t0.2668584470627525\n",
      "  (8806, 30096)\t0.2668584470627525\n",
      "  (8806, 22448)\t0.2668584470627525\n",
      "  (8806, 24994)\t0.2668584470627525\n",
      "  (8806, 41086)\t0.2668584470627525\n",
      "  (8806, 6836)\t0.25533568931490586\n",
      "  (8806, 29592)\t0.25533568931490586\n",
      "  (8806, 7276)\t0.2471601625853012\n",
      "  (8806, 22622)\t0.19186008670143734\n",
      "  (8806, 1881)\t0.18471807813470528\n",
      "  (8806, 38716)\t0.200035613431042\n",
      "  (8806, 9534)\t0.21366441728060082\n",
      "  (8806, 23684)\t0.23563740483745452\n",
      "  (8806, 22437)\t0.17901529443109385\n",
      "  (8806, 18762)\t0.18393943717202857\n",
      "  (8806, 7003)\t0.20142216243602337\n",
      "  (8806, 32153)\t0.13820143702275078\n",
      "  (8806, 17237)\t0.15654977084841756\n",
      "  (8806, 34038)\t0.13804823655831422\n"
     ]
    }
   ],
   "source": [
    "print(t1)"
   ]
  },
  {
   "cell_type": "code",
   "execution_count": 19,
   "id": "d8760613",
   "metadata": {},
   "outputs": [],
   "source": [
    "# Need to create cosine simillarity of each movies\n",
    "cs=cosine_similarity(t1)"
   ]
  },
  {
   "cell_type": "code",
   "execution_count": 21,
   "id": "f9304aba",
   "metadata": {},
   "outputs": [],
   "source": [
    "csdf=pd.DataFrame(cs)"
   ]
  },
  {
   "cell_type": "markdown",
   "id": "a045d6c1",
   "metadata": {},
   "source": [
    "# Movie Search Engine"
   ]
  },
  {
   "cell_type": "code",
   "execution_count": 71,
   "id": "f3bc5a95",
   "metadata": {},
   "outputs": [
    {
     "name": "stdout",
     "output_type": "stream",
     "text": [
      "Enter the movie titlejeans\n"
     ]
    },
    {
     "data": {
      "text/html": [
       "<div>\n",
       "<style scoped>\n",
       "    .dataframe tbody tr th:only-of-type {\n",
       "        vertical-align: middle;\n",
       "    }\n",
       "\n",
       "    .dataframe tbody tr th {\n",
       "        vertical-align: top;\n",
       "    }\n",
       "\n",
       "    .dataframe thead th {\n",
       "        text-align: right;\n",
       "    }\n",
       "</style>\n",
       "<table border=\"1\" class=\"dataframe\">\n",
       "  <thead>\n",
       "    <tr style=\"text-align: right;\">\n",
       "      <th></th>\n",
       "      <th>show_id</th>\n",
       "      <th>type</th>\n",
       "      <th>title</th>\n",
       "      <th>director</th>\n",
       "      <th>cast</th>\n",
       "      <th>country</th>\n",
       "      <th>date_added</th>\n",
       "      <th>release_year</th>\n",
       "      <th>rating</th>\n",
       "      <th>duration</th>\n",
       "      <th>listed_in</th>\n",
       "      <th>description</th>\n",
       "      <th>combine</th>\n",
       "    </tr>\n",
       "  </thead>\n",
       "  <tbody>\n",
       "    <tr>\n",
       "      <th>24</th>\n",
       "      <td>s25</td>\n",
       "      <td>Movie</td>\n",
       "      <td>Jeans</td>\n",
       "      <td>S. Shankar</td>\n",
       "      <td>Prashanth, Aishwarya Rai Bachchan, Sri Lakshmi...</td>\n",
       "      <td>India</td>\n",
       "      <td>21-Sep-21</td>\n",
       "      <td>1998</td>\n",
       "      <td>TV-14</td>\n",
       "      <td>166 min</td>\n",
       "      <td>Comedies, International Movies, Romantic Movies</td>\n",
       "      <td>When the father of the man she loves insists t...</td>\n",
       "      <td>Jeans S. Shankar Prashanth, Aishwarya Rai Bach...</td>\n",
       "    </tr>\n",
       "  </tbody>\n",
       "</table>\n",
       "</div>"
      ],
      "text/plain": [
       "   show_id   type  title    director  \\\n",
       "24     s25  Movie  Jeans  S. Shankar   \n",
       "\n",
       "                                                 cast country date_added  \\\n",
       "24  Prashanth, Aishwarya Rai Bachchan, Sri Lakshmi...   India  21-Sep-21   \n",
       "\n",
       "    release_year rating duration  \\\n",
       "24          1998  TV-14  166 min   \n",
       "\n",
       "                                          listed_in  \\\n",
       "24  Comedies, International Movies, Romantic Movies   \n",
       "\n",
       "                                          description  \\\n",
       "24  When the father of the man she loves insists t...   \n",
       "\n",
       "                                              combine  \n",
       "24  Jeans S. Shankar Prashanth, Aishwarya Rai Bach...  "
      ]
     },
     "execution_count": 71,
     "metadata": {},
     "output_type": "execute_result"
    }
   ],
   "source": [
    "# Getting input\n",
    "inp=input('Enter the movie title')\n",
    "\n",
    "d1=difflib.get_close_matches(inp,df['title'])[0]\n",
    "u=df[df['title']==d1].index[0]\n",
    "df[df['title']==d1]"
   ]
  },
  {
   "cell_type": "markdown",
   "id": "e9c8a2d4",
   "metadata": {},
   "source": [
    "# Recommended Movies"
   ]
  },
  {
   "cell_type": "code",
   "execution_count": 72,
   "id": "02db43aa",
   "metadata": {},
   "outputs": [
    {
     "name": "stdout",
     "output_type": "stream",
     "text": [
      "['Kyun! Ho Gaya Na']\n",
      "['Guru']\n",
      "['Shabd']\n",
      "['Maniyarayile Ashokan']\n",
      "['Taal']\n",
      "['Aaviri']\n",
      "['Jodhaa Akbar']\n",
      "['Guzaarish']\n",
      "['Action Replayy']\n",
      "['Thaandavam']\n"
     ]
    }
   ],
   "source": [
    "recom_movies=csdf.iloc[u].sort_values(ascending=False).iloc[1:11]\n",
    "recom_movies_df=pd.DataFrame(recom_movies)\n",
    "recom_movies_df=recom_movies_df.reset_index()\n",
    "recom_movies_df.columns=['index','simillarity_score']\n",
    "for i in recom_movies_df['index']:\n",
    "    print(df[df.index==i]['title'].values)"
   ]
  },
  {
   "cell_type": "code",
   "execution_count": 73,
   "id": "442220ad",
   "metadata": {},
   "outputs": [
    {
     "data": {
      "text/plain": [
       "4              Unknown director\n",
       "24                   S. Shankar\n",
       "39             Unknown director\n",
       "50             Unknown director\n",
       "66             Unknown director\n",
       "                 ...           \n",
       "8773               Kedar Shinde\n",
       "8775           Unknown director\n",
       "8798    Chandra Prakash Dwivedi\n",
       "8799             Avadhoot Gupte\n",
       "8806                Mozez Singh\n",
       "Name: director, Length: 972, dtype: object"
      ]
     },
     "execution_count": 73,
     "metadata": {},
     "output_type": "execute_result"
    }
   ],
   "source": [
    "df[df['country']=='India']['director']"
   ]
  },
  {
   "cell_type": "code",
   "execution_count": null,
   "id": "93d542d9",
   "metadata": {},
   "outputs": [],
   "source": []
  }
 ],
 "metadata": {
  "kernelspec": {
   "display_name": "Python 3 (ipykernel)",
   "language": "python",
   "name": "python3"
  },
  "language_info": {
   "codemirror_mode": {
    "name": "ipython",
    "version": 3
   },
   "file_extension": ".py",
   "mimetype": "text/x-python",
   "name": "python",
   "nbconvert_exporter": "python",
   "pygments_lexer": "ipython3",
   "version": "3.9.12"
  }
 },
 "nbformat": 4,
 "nbformat_minor": 5
}
